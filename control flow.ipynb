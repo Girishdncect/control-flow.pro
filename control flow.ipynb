{
 "cells": [
  {
   "cell_type": "markdown",
   "id": "edd0ffbc-8668-41ce-ba58-46575a3f9791",
   "metadata": {},
   "source": [
    "Basic If-Else Statements:"
   ]
  },
  {
   "cell_type": "code",
   "execution_count": 4,
   "id": "1aee9fec-29b3-4220-822f-ab42a2725381",
   "metadata": {},
   "outputs": [
    {
     "name": "stdin",
     "output_type": "stream",
     "text": [
      "enter the number -2\n"
     ]
    },
    {
     "name": "stdout",
     "output_type": "stream",
     "text": [
      "it is negative number\n"
     ]
    }
   ],
   "source": [
    "#1. Write a Python program to check if a given number is positive or negative.\n",
    "\n",
    "n=int(input(\"enter the number\"))\n",
    "if n>=0:\n",
    "    print(\"it is positive number\")\n",
    "else:\n",
    "    print(\"it is negative number\")"
   ]
  },
  {
   "cell_type": "code",
   "execution_count": 2,
   "id": "c2b0915f-10bf-4a90-a881-648c47ffb250",
   "metadata": {},
   "outputs": [
    {
     "name": "stdin",
     "output_type": "stream",
     "text": [
      "enter your age 19\n"
     ]
    },
    {
     "name": "stdout",
     "output_type": "stream",
     "text": [
      "you are eligible to vote\n"
     ]
    }
   ],
   "source": [
    "#2. Create a program that determines if a person is eligible to vote based on their age.\n",
    "age=int(input(\"enter your age\"))\n",
    "if age>=18:\n",
    "    print(\"you are eligible to vote\")\n",
    "else:\n",
    "    print(\"you are not eligible to vote\")"
   ]
  },
  {
   "cell_type": "code",
   "execution_count": 4,
   "id": "efefdf2c-f8e4-477e-b650-b21d072d371e",
   "metadata": {},
   "outputs": [
    {
     "name": "stdin",
     "output_type": "stream",
     "text": [
      "enter the first number 12.23\n",
      "enter the second number 1313.1\n"
     ]
    },
    {
     "name": "stdout",
     "output_type": "stream",
     "text": [
      "1313.1\n"
     ]
    }
   ],
   "source": [
    "#Develop a program to find the maximum of two numbers using if-else statements.\n",
    "n1=float(input(\"enter the first number\"))\n",
    "n2=float(input(\"enter the second number\"))\n",
    "print(max(n1,n2))"
   ]
  },
  {
   "cell_type": "code",
   "execution_count": 6,
   "id": "2d01127b-5442-4198-a76d-f1afa7593d42",
   "metadata": {},
   "outputs": [
    {
     "name": "stdin",
     "output_type": "stream",
     "text": [
      "enter the year 2008\n"
     ]
    },
    {
     "name": "stdout",
     "output_type": "stream",
     "text": [
      "yes ,it is a leap year\n"
     ]
    }
   ],
   "source": [
    "#4. Write a Python script to classify a given year as a leap year or not.\n",
    "a=int(input(\"enter the year\"))\n",
    "if a%4==0 or a%100==0:\n",
    "    print(\"yes ,it is a leap year\")\n",
    "else:\n",
    "    print(\"no, it is not a leaap year\")"
   ]
  },
  {
   "cell_type": "code",
   "execution_count": 12,
   "id": "65745dc9-6106-4f89-90e1-b43952583662",
   "metadata": {},
   "outputs": [
    {
     "name": "stdin",
     "output_type": "stream",
     "text": [
      "Enter a character:  a\n"
     ]
    },
    {
     "name": "stdout",
     "output_type": "stream",
     "text": [
      "a is a vowel.\n"
     ]
    }
   ],
   "source": [
    "#5. Create a program that checks whether a character is a vowel\n",
    "def vowel(char):\n",
    "    vowels = \"aeiouAEIOU\"\n",
    "    return char in vowels\n",
    "user_input = input(\"Enter a character: \")\n",
    "if len(user_input) == 1:\n",
    "    if vowel(user_input):\n",
    "        print(f\"{user_input} is a vowel.\")\n",
    "    else:\n",
    "        print(f\"{user_input} is not a vowel.\")\n",
    "else:\n",
    "    print(\"Please enter a single character.\")\n"
   ]
  },
  {
   "cell_type": "code",
   "execution_count": 1,
   "id": "abca1fc7-a30e-4f9c-a777-657b432ad701",
   "metadata": {},
   "outputs": [
    {
     "name": "stdin",
     "output_type": "stream",
     "text": [
      "enter a character a\n"
     ]
    },
    {
     "name": "stdout",
     "output_type": "stream",
     "text": [
      "a is a  vowel\n"
     ]
    }
   ],
   "source": [
    "#5. Create a program that checks whether a character is a vowel or a consonant.\n",
    "user_input=input(\"enter a character\")\n",
    "if len(user_input)==1:\n",
    "    if user_input.lower() in \"aeiou\":\n",
    "        print(f\"{user_input} is a  vowel\")\n",
    "    else:\n",
    "        print(f\"{user_input} is not vowel\")\n",
    "else:\n",
    "    print(\"please enter a single character\")\n"
   ]
  },
  {
   "cell_type": "code",
   "execution_count": 2,
   "id": "d241d0ed-14c2-4e96-8af8-c9b34dd86c44",
   "metadata": {},
   "outputs": [
    {
     "name": "stdin",
     "output_type": "stream",
     "text": [
      "enter the number 3\n"
     ]
    },
    {
     "name": "stdout",
     "output_type": "stream",
     "text": [
      "this is odd number\n"
     ]
    }
   ],
   "source": [
    "#6. Implement a program to determine whether a given number is even or odd.\n",
    "n=int(input(\"enter the number\"))\n",
    "if n%2==0:\n",
    "    print(\"this is even number\")\n",
    "else:\n",
    "    print(\"this is odd number\")"
   ]
  },
  {
   "cell_type": "code",
   "execution_count": 6,
   "id": "d097da3d-b854-4ac4-844b-a10953321b13",
   "metadata": {},
   "outputs": [
    {
     "name": "stdout",
     "output_type": "stream",
     "text": [
      "342\n"
     ]
    }
   ],
   "source": [
    "#7. Calculate the absolute value of a number without using abs():\n",
    "def absolute_value(num):                  \n",
    "    if num < 0:\n",
    "        return -num\n",
    "    else:\n",
    "        return num\n",
    "result = absolute_value(-342)\n",
    "print(result)\n"
   ]
  },
  {
   "cell_type": "code",
   "execution_count": 1,
   "id": "780e1e0b-acfb-4f5f-b875-eec655a3d686",
   "metadata": {},
   "outputs": [
    {
     "name": "stdout",
     "output_type": "stream",
     "text": [
      "The largest number is: 10\n"
     ]
    }
   ],
   "source": [
    "#8. Determine the largest of three given numbers using if-else statements:\n",
    "def find_largest(num1, num2, num3):\n",
    "    if num1 >= num2 and num1 >= num3:\n",
    "        return num1\n",
    "    elif num2 >= num1 and num2 >= num3:\n",
    "        return num2\n",
    "    else:\n",
    "        return num3\n",
    "\n",
    "largest_number = find_largest(10, 5, 8)\n",
    "print(f\"The largest number is: {largest_number}\")\n"
   ]
  },
  {
   "cell_type": "code",
   "execution_count": 4,
   "id": "5080ae05-c1ac-4f4b-a8a6-371ef7ac47e2",
   "metadata": {},
   "outputs": [
    {
     "name": "stdin",
     "output_type": "stream",
     "text": [
      "enter the string girish d\n"
     ]
    },
    {
     "name": "stdout",
     "output_type": "stream",
     "text": [
      "no , it is not a palindrome\n"
     ]
    }
   ],
   "source": [
    "#9. Create a program that checks if a given string is a palindrome.\n",
    "st1=input(\"enter the string\")\n",
    "if st1==st1[::-1]:\n",
    "    print(\"yes, it is palindrome\")\n",
    "else:\n",
    "    print(\"no , it is not a palindrome\")"
   ]
  },
  {
   "cell_type": "code",
   "execution_count": 7,
   "id": "ab9c80bd-c937-40a8-9013-81302d06981f",
   "metadata": {},
   "outputs": [
    {
     "name": "stdin",
     "output_type": "stream",
     "text": [
      "enter the student percentail 92\n"
     ]
    },
    {
     "name": "stdout",
     "output_type": "stream",
     "text": [
      "GRADE A+\n"
     ]
    }
   ],
   "source": [
    "#10. Write a Python program to calculate the grade based on a student's score.\n",
    "s=int(input(\"enter the student percentail\"))\n",
    "if s>=85:\n",
    "    print(\"GRADE A+\")\n",
    "elif s>=75:\n",
    "    print(\"GRADE A\")\n",
    "elif s>=60:\n",
    "    print(\"GRADE B\")\n",
    "elif s>=50:    \n",
    "    print(\"GRADE C\")\n",
    "else:\n",
    "    print(\"GRADE F\")\n",
    "    "
   ]
  },
  {
   "cell_type": "markdown",
   "id": "eb6b225f-8e18-44cc-8970-eac18c284fba",
   "metadata": {},
   "source": [
    "#Nested If-Else Statements:\n"
   ]
  },
  {
   "cell_type": "code",
   "execution_count": 10,
   "id": "cb64e0bd-1877-4b8d-b3d2-91dc745adfa4",
   "metadata": {},
   "outputs": [
    {
     "name": "stdin",
     "output_type": "stream",
     "text": [
      "Enter the first number:  786786786\n",
      "Enter the second number:  78977877876786\n",
      "Enter the third number:  778666756567576\n"
     ]
    },
    {
     "name": "stdout",
     "output_type": "stream",
     "text": [
      "The largest number among 786786786, 78977877876786, and 778666756567576 is: 778666756567576\n"
     ]
    }
   ],
   "source": [
    "#11. Write a program to find the largest among three numbers using nested if-else statements.\n",
    "\n",
    "A = int(input(\"Enter the first number: \"))\n",
    "B = int(input(\"Enter the second number: \"))\n",
    "C = int(input(\"Enter the third number: \"))\n",
    "\n",
    "# Using nested if-else statements to find the largest number\n",
    "if A >= B:\n",
    "    if A >= C:\n",
    "        largest = A\n",
    "    else:\n",
    "        largest = C\n",
    "else:\n",
    "    if B >= C:\n",
    "        largest = B\n",
    "    else:\n",
    "        largest = C\n",
    "\n",
    "# Display the result\n",
    "print(\"The largest number among {}, {}, and {} is: {}\".format(A, B, C, largest))\n"
   ]
  },
  {
   "cell_type": "code",
   "execution_count": 11,
   "id": "ddd74afb-0f81-4d7d-b838-53949e7144de",
   "metadata": {},
   "outputs": [
    {
     "name": "stdin",
     "output_type": "stream",
     "text": [
      "Enter the length of side a:  6\n",
      "Enter the length of side b:  5\n",
      "Enter the length of side c:  3\n"
     ]
    },
    {
     "name": "stdout",
     "output_type": "stream",
     "text": [
      "The triangle with sides 6.0, 5.0, and 3.0 is a Scalene triangle.\n"
     ]
    }
   ],
   "source": [
    "#12. Implement a program to determine if a triangle is equilateral, isosceles, or scalene.\n",
    "# Get input from the user\n",
    "side_a = float(input(\"Enter the length of side a: \"))\n",
    "side_b = float(input(\"Enter the length of side b: \"))\n",
    "side_c = float(input(\"Enter the length of side c: \"))\n",
    "\n",
    "if side_a == side_b == side_c:\n",
    "    triangle_type = \"Equilateral\"\n",
    "elif side_a == side_b or side_a == side_c or side_b == side_c:\n",
    "    triangle_type = \"Isosceles\"\n",
    "else:\n",
    "    triangle_type = \"Scalene\"\n",
    "\n",
    "print(\"The triangle with sides {}, {}, and {} is a {} triangle.\".format(side_a, side_b, side_c, triangle_type))\n"
   ]
  },
  {
   "cell_type": "code",
   "execution_count": 13,
   "id": "de240491-921b-4c91-ac2b-5ce09bf64e28",
   "metadata": {},
   "outputs": [
    {
     "name": "stdin",
     "output_type": "stream",
     "text": [
      "Enter a year:  2024\n"
     ]
    },
    {
     "name": "stdout",
     "output_type": "stream",
     "text": [
      "2024 is a leap year but not a century year.\n"
     ]
    }
   ],
   "source": [
    "#13. Develop a program that checks if a year is a leap year and also if it is a century year.\n",
    "year = int(input(\"Enter a year: \"))\n",
    "is_leap_year = False\n",
    "is_century_year = False\n",
    "\n",
    "if (year % 4 == 0 and year % 100 != 0) or (year % 400 == 0):\n",
    "    is_leap_year = True\n",
    "if year % 100 == 0:\n",
    "    is_century_year = True\n",
    "\n",
    "if is_leap_year:\n",
    "    if is_century_year:\n",
    "        print(\"{} is a leap year and a century year.\".format(year))\n",
    "    else:\n",
    "        print(\"{} is a leap year but not a century year.\".format(year))\n",
    "else:\n",
    "    print(\"{} is not a leap year.\".format(year))\n"
   ]
  },
  {
   "cell_type": "code",
   "execution_count": 14,
   "id": "91328757-2c1a-488c-98d4-c38edb122430",
   "metadata": {},
   "outputs": [
    {
     "name": "stdin",
     "output_type": "stream",
     "text": [
      "Enter a number:  87\n"
     ]
    },
    {
     "name": "stdout",
     "output_type": "stream",
     "text": [
      "The number is positive.\n"
     ]
    }
   ],
   "source": [
    "#14. Determine if a number is positive, negative, or zero:\n",
    "number = float(input(\"Enter a number: \"))\n",
    "\n",
    "if number > 0:\n",
    "    print(\"The number is positive.\")\n",
    "elif number < 0:\n",
    "    print(\"The number is negative.\")\n",
    "else:\n",
    "    print(\"The number is zero.\")\n"
   ]
  },
  {
   "cell_type": "code",
   "execution_count": 15,
   "id": "033f7387-c28f-4aae-8642-d75f2ff2098d",
   "metadata": {},
   "outputs": [
    {
     "name": "stdin",
     "output_type": "stream",
     "text": [
      "Enter the age:  20\n"
     ]
    },
    {
     "name": "stdout",
     "output_type": "stream",
     "text": [
      "The person is not a teenager.\n"
     ]
    }
   ],
   "source": [
    "#15. Check if a person is a teenager:\n",
    "age = int(input(\"Enter the age: \"))\n",
    "\n",
    "if 13 <= age <= 19:\n",
    "    print(\"The person is a teenager.\")\n",
    "else:\n",
    "    print(\"The person is not a teenager.\")\n"
   ]
  },
  {
   "cell_type": "code",
   "execution_count": 16,
   "id": "ecbfff8d-50bb-485d-b754-caeeda41820f",
   "metadata": {},
   "outputs": [
    {
     "name": "stdin",
     "output_type": "stream",
     "text": [
      "Enter the measure of the angle:  65\n"
     ]
    },
    {
     "name": "stdout",
     "output_type": "stream",
     "text": [
      "The angle is acute.\n"
     ]
    }
   ],
   "source": [
    "#16. Determine the type of angle based on its measure:\n",
    "angle_measure = float(input(\"Enter the measure of the angle: \"))\n",
    "\n",
    "if angle_measure < 90:\n",
    "    print(\"The angle is acute.\")\n",
    "elif angle_measure == 90:\n",
    "    print(\"The angle is a right angle.\")\n",
    "else:\n",
    "    print(\"The angle is obtuse.\")\n",
    "\n"
   ]
  },
  {
   "cell_type": "code",
   "execution_count": 17,
   "id": "07da1b86-90da-442b-9fb7-8f87f4dd0782",
   "metadata": {},
   "outputs": [
    {
     "name": "stdin",
     "output_type": "stream",
     "text": [
      "Enter the coefficient a:  7\n",
      "Enter the coefficient b:  7\n",
      "Enter the coefficient c:  8\n"
     ]
    },
    {
     "name": "stdout",
     "output_type": "stream",
     "text": [
      "Root 1: (-0.5+0.944911182523068j)\n",
      "Root 2: (-0.5-0.944911182523068j)\n"
     ]
    }
   ],
   "source": [
    "#17. Calculate the roots of a quadratic equation:\n",
    "import cmath\n",
    "\n",
    "a = float(input(\"Enter the coefficient a: \"))\n",
    "b = float(input(\"Enter the coefficient b: \"))\n",
    "c = float(input(\"Enter the coefficient c: \"))\n",
    "\n",
    "# Calculate the discriminant\n",
    "discriminant = b**2 - 4*a*c\n",
    "\n",
    "# Calculate roots\n",
    "root1 = (-b + cmath.sqrt(discriminant)) / (2*a)\n",
    "root2 = (-b - cmath.sqrt(discriminant)) / (2*a)\n",
    "\n",
    "print(\"Root 1:\", root1)\n",
    "print(\"Root 2:\", root2)\n"
   ]
  },
  {
   "cell_type": "code",
   "execution_count": 18,
   "id": "439700d0-a316-48be-8785-9d9021fff8be",
   "metadata": {},
   "outputs": [
    {
     "name": "stdin",
     "output_type": "stream",
     "text": [
      "Enter a number (1 for Monday, 2 for Tuesday, etc.):  2\n"
     ]
    },
    {
     "name": "stdout",
     "output_type": "stream",
     "text": [
      "The day of the week is: Tuesday\n"
     ]
    }
   ],
   "source": [
    "#18. Determine the day of the week based on a user-provided number:\n",
    "day_number = int(input(\"Enter a number (1 for Monday, 2 for Tuesday, etc.): \"))\n",
    "\n",
    "days_of_week = [\"Monday\", \"Tuesday\", \"Wednesday\", \"Thursday\", \"Friday\", \"Saturday\", \"Sunday\"]\n",
    "\n",
    "if 1 <= day_number <= 7:\n",
    "    print(\"The day of the week is:\", days_of_week[day_number - 1])\n",
    "else:\n",
    "    print(\"Invalid input. Please enter a number between 1 and 7.\")\n"
   ]
  },
  {
   "cell_type": "code",
   "execution_count": 19,
   "id": "665e040b-e460-4405-a034-9d61a41f5927",
   "metadata": {},
   "outputs": [
    {
     "name": "stdin",
     "output_type": "stream",
     "text": [
      "Enter a year:  1600\n"
     ]
    },
    {
     "name": "stdout",
     "output_type": "stream",
     "text": [
      "The year is a leap year and evenly divisible by 400.\n"
     ]
    }
   ],
   "source": [
    "#19. Determine if a year is a leap year and evenly divisible by 400:\n",
    "year = int(input(\"Enter a year: \"))\n",
    "\n",
    "if (year % 4 == 0 and year % 100 != 0) or (year % 400 == 0):\n",
    "    print(\"The year is a leap year and evenly divisible by 400.\")\n",
    "else:\n",
    "    print(\"The year is not a leap year or not evenly divisible by 400.\")\n"
   ]
  },
  {
   "cell_type": "code",
   "execution_count": 20,
   "id": "2ad1e1a9-2c9f-43e9-bc92-030f64d49074",
   "metadata": {},
   "outputs": [
    {
     "name": "stdin",
     "output_type": "stream",
     "text": [
      "Enter a number:  24\n"
     ]
    },
    {
     "name": "stdout",
     "output_type": "stream",
     "text": [
      "24 is not a prime number.\n"
     ]
    }
   ],
   "source": [
    "#20. Check if a given number is prime or not:\n",
    "number = int(input(\"Enter a number: \"))\n",
    "\n",
    "if number > 1:\n",
    "    for i in range(2, int(number**0.5) + 1):\n",
    "        if (number % i) == 0:\n",
    "            print(number, \"is not a prime number.\")\n",
    "            break\n",
    "    else:\n",
    "        print(number, \"is a prime number.\")\n",
    "else:\n",
    "    print(number, \"is not a prime number.\")\n"
   ]
  },
  {
   "cell_type": "code",
   "execution_count": 4,
   "id": "f12f13de-0160-45d8-a6ba-41125a1313cd",
   "metadata": {},
   "outputs": [
    {
     "name": "stdin",
     "output_type": "stream",
     "text": [
      "enter your income 10000\n"
     ]
    },
    {
     "name": "stdout",
     "output_type": "stream",
     "text": [
      "your income tax is:500.0\n"
     ]
    }
   ],
   "source": [
    "#21 Income Tax Calculator:\n",
    "def cal_inc_tax(income):\n",
    "    if income<=10000:\n",
    "        tax =0.05*income\n",
    "    elif income <=50000:\n",
    "        tax=0.1*income\n",
    "    else:\n",
    "        tax=0.15*income\n",
    "    return tax\n",
    "income =float(input(\"enter your income\"))\n",
    "tax=cal_inc_tax(income)\n",
    "print(f\"your income tax is:{tax}\")"
   ]
  },
  {
   "cell_type": "code",
   "execution_count": 2,
   "id": "ad1117f9-f866-4bf9-ac74-9bbe375d63e0",
   "metadata": {},
   "outputs": [
    {
     "name": "stdin",
     "output_type": "stream",
     "text": [
      "Enter the first angle:  82\n",
      "Enter the second angle:  82\n",
      "Enter the third angle:  92\n"
     ]
    },
    {
     "name": "stdout",
     "output_type": "stream",
     "text": [
      "The triangle is a Invalid Triangle\n"
     ]
    }
   ],
   "source": [
    "#22. Implement a program to determine the type of a triangle based on its angles.\n",
    "def triangle_type(angle1, angle2, angle3):\n",
    "    if angle1 + angle2 + angle3 == 180:\n",
    "        if angle1 == angle2 == angle3:\n",
    "            return \"Equilateral Triangle\"\n",
    "        elif angle1 == angle2 or angle1 == angle3 or angle2 == angle3:\n",
    "            return \"Isosceles Triangle\"\n",
    "        else:\n",
    "            return \"Scalene Triangle\"\n",
    "    else:\n",
    "        return \"Invalid Triangle\"\n",
    "\n",
    "# Example usage\n",
    "angle1 = int(input(\"Enter the first angle: \"))\n",
    "angle2 = int(input(\"Enter the second angle: \"))\n",
    "angle3 = int(input(\"Enter the third angle: \"))\n",
    "result = triangle_type(angle1, angle2, angle3)\n",
    "print(f\"The triangle is a {result}\")\n"
   ]
  },
  {
   "cell_type": "markdown",
   "id": "ffc0dd6e-9290-4c1a-99a0-3aa63f8317ce",
   "metadata": {},
   "source": [
    "23. Develop a program to categorize a given person's BMI into underweight, normal, overweight, or obese using\n",
    "elif statements.'''\n"
   ]
  },
  {
   "cell_type": "code",
   "execution_count": 1,
   "id": "e7adb698-3832-4c65-a8b2-c5664a2c453a",
   "metadata": {},
   "outputs": [
    {
     "name": "stdin",
     "output_type": "stream",
     "text": [
      "Enter your weight in Kilograms 54\n",
      "Enter your height in meters 1.6\n"
     ]
    },
    {
     "name": "stdout",
     "output_type": "stream",
     "text": [
      "Your BMI is 21.09, which is considered Normal.\n"
     ]
    }
   ],
   "source": [
    "def calculate_bmi(weighat,height):\n",
    "    bmi=weight/(height**2)\n",
    "    return bmi\n",
    "def categorize_bmi(bmi):\n",
    "    if bmi <= 18.5:\n",
    "        return \"Underweight\"\n",
    "    elif 18.5 <= bmi <25:\n",
    "        return \"Normal\"\n",
    "    elif 25 <= nmi <30:\n",
    "        return \"Overweight\"\n",
    "    else:\n",
    "        return \"Obese\"\n",
    "    \n",
    "weight=float(input(\"Enter your weight in Kilograms\"))\n",
    "height=float(input(\"Enter your height in meters\"))\n",
    "\n",
    "bmi=calculate_bmi(weight,height)\n",
    "\n",
    "category=categorize_bmi(bmi)\n",
    "print(f\"Your BMI is {bmi:.2f}, which is considered {category}.\")\n",
    "\n",
    "\n",
    "   \n",
    "    "
   ]
  },
  {
   "cell_type": "code",
   "execution_count": 5,
   "id": "09e8d895-d85f-4c3f-aae7-2fc2be2253dc",
   "metadata": {},
   "outputs": [
    {
     "name": "stdin",
     "output_type": "stream",
     "text": [
      "enter the number 2\n"
     ]
    },
    {
     "name": "stdout",
     "output_type": "stream",
     "text": [
      "number is positive\n"
     ]
    }
   ],
   "source": [
    "'''24. Create a program that determines whether a given number is positive, negative, or zero using elif\n",
    "statements.'''\n",
    "a=int(input(\"enter the number\"))\n",
    "if a>0:\n",
    "    if a==0:\n",
    "        print(\"number is zero\")\n",
    "    elif a>0:\n",
    "        print(\"number is positive\")\n",
    "else:\n",
    "    print(\"number is negative\")"
   ]
  },
  {
   "cell_type": "markdown",
   "id": "1e65876b-6c72-4ffd-9148-95b23b8916eb",
   "metadata": {},
   "source": [
    "#25. Write a Python script to determine the type of a character (uppercase, lowercase, or special) using elif\n",
    "statements."
   ]
  },
  {
   "cell_type": "code",
   "execution_count": 4,
   "id": "9ba243d5-3af7-4aa3-8421-2df0758fe031",
   "metadata": {},
   "outputs": [
    {
     "name": "stdin",
     "output_type": "stream",
     "text": [
      "Enter a character #\n"
     ]
    },
    {
     "name": "stdout",
     "output_type": "stream",
     "text": [
      "Special character\n"
     ]
    }
   ],
   "source": [
    "\n",
    "character=input(\"Enter a character\")\n",
    "if character.isupper():\n",
    "    print(\"Uppercase\")\n",
    "elif character.islower():\n",
    "    print(\"Lowercase\")\n",
    "else:\n",
    "    print(\"Special character\")"
   ]
  },
  {
   "cell_type": "markdown",
   "id": "943a482f-d421-4758-87a3-90fe3e502321",
   "metadata": {},
   "source": [
    "26. Implement a program to calculate the discounted price based on different purchase amounts using elif\n",
    "statements."
   ]
  },
  {
   "cell_type": "code",
   "execution_count": 5,
   "id": "4dbc649c-407e-45da-90af-da200de8009b",
   "metadata": {},
   "outputs": [
    {
     "name": "stdin",
     "output_type": "stream",
     "text": [
      "enter the amount 150000\n"
     ]
    },
    {
     "name": "stdout",
     "output_type": "stream",
     "text": [
      "the discounted amount is:135000.000000\n"
     ]
    }
   ],
   "source": [
    "purchase_amount=float(input(\"enter the amount\"))\n",
    "if purchase_amount>=1000:\n",
    "    discount=0.1\n",
    "elif 500<= purchase_amount<1000:\n",
    "    discount=0.05\n",
    "else:\n",
    "    discount=0\n",
    "discounted_amount=purchase_amount-(purchase_amount*discount)\n",
    "print(f\"the discounted amount is:{discounted_amount:2f}\")"
   ]
  },
  {
   "cell_type": "markdown",
   "id": "51df6a89-83ef-4ffc-bfb1-45ff63529787",
   "metadata": {},
   "source": [
    "27. Develop a program to calculate the electricity bill based on different consumption slabs using elif\n",
    "statements."
   ]
  },
  {
   "cell_type": "code",
   "execution_count": 6,
   "id": "1772cab4-f01b-4c3c-9e4c-b56ff37fcdcb",
   "metadata": {},
   "outputs": [
    {
     "name": "stdin",
     "output_type": "stream",
     "text": [
      "enter the electriccity consumption in kwh 140\n"
     ]
    },
    {
     "name": "stdout",
     "output_type": "stream",
     "text": [
      "the electricity bill is:18.00\n"
     ]
    }
   ],
   "source": [
    "consumption=float(input(\"enter the electriccity consumption in kwh\"))\n",
    "if consumption<=100:\n",
    "    bill=consumption*0.1\n",
    "elif 100 <consumption<=200:\n",
    "    bill=100*0.1 +(consumption-100)*0.2\n",
    "else:\n",
    "    bill=100*0.1+100*0.2+(consumption -200)*0.3\n",
    "\n",
    "print(f\"the electricity bill is:{bill:.2f}\")    \n",
    "    \n",
    "    "
   ]
  },
  {
   "cell_type": "markdown",
   "id": "37252fa1-6d11-43fa-8af6-ff9d638579e2",
   "metadata": {},
   "source": [
    "28. Create a program to determine the type of quadrilateral based on its angles and sides using elif\n",
    "statements."
   ]
  },
  {
   "cell_type": "code",
   "execution_count": 8,
   "id": "ee4e4c76-9120-47a4-b6fe-07a19e85bdc8",
   "metadata": {},
   "outputs": [
    {
     "name": "stdin",
     "output_type": "stream",
     "text": [
      "enter the first angle 60\n",
      "enter the second angle 100\n",
      "enter the third angle 80\n",
      "enter the fourth angle 120\n"
     ]
    },
    {
     "name": "stdout",
     "output_type": "stream",
     "text": [
      "the quadrilatural is a quadrilateral\n"
     ]
    }
   ],
   "source": [
    "angle1=int(input(\"enter the first angle\"))\n",
    "angle2=int(input(\"enter the second angle\"))\n",
    "angle3=int(input(\"enter the third angle\"))\n",
    "angle4=int(input(\"enter the fourth angle\"))\n",
    "if angle1+angle2+angle3+angle4==360:\n",
    "    if angle1==angle2==angle3==angle4:\n",
    "        quad_type=\"square\"\n",
    "    elif angle1==angle3 and angle2 ==andle4:\n",
    "        quad_type=\"reactangle\"\n",
    "    else:\n",
    "        quad_type=\"quadrilateral\"\n",
    "else:\n",
    "    quad_type=\"not a valid quadrilateral\"\n",
    "print(f\"the quadrilatural is a {quad_type}\")\n",
    "           "
   ]
  },
  {
   "cell_type": "markdown",
   "id": "a2d264de-53a0-43ac-a37d-ffeb05098d89",
   "metadata": {},
   "source": [
    "29. Write a Python script to determine the season based on a user-provided month using elif statements."
   ]
  },
  {
   "cell_type": "code",
   "execution_count": 11,
   "id": "e023d0e1-9889-4a30-b1c0-0b82aaa7b19e",
   "metadata": {},
   "outputs": [
    {
     "name": "stdin",
     "output_type": "stream",
     "text": [
      "Enter the mounth: april\n"
     ]
    },
    {
     "name": "stdout",
     "output_type": "stream",
     "text": [
      "the season for april isspring\n"
     ]
    }
   ],
   "source": [
    "month=input(\"Enter the mounth:\")\n",
    "if month.lower() in (\" december\",\"january\",\"february\"):\n",
    "    season=\"winter\"\n",
    "elif month.lower() in (\"march\",\"april\",\"may\"):\n",
    "    season =\"spring\"\n",
    "elif month.lower() in (\"june\",\"july\",\"august\"):\n",
    "    season=\"summer\"\n",
    "elif month.lower() in (\"sepetember\",\"octomber\",\"november\"):\n",
    "    season=\"Fall\"\n",
    "else:\n",
    "    season=\"Invalid month\"\n",
    "print(f\"the season for {month} is{season}\")    "
   ]
  },
  {
   "cell_type": "markdown",
   "id": "e3159327-567c-41c7-90fd-7a80e19c94e1",
   "metadata": {},
   "source": [
    "1.check if a given number is positive , negative,or zerozz:\n"
   ]
  },
  {
   "cell_type": "code",
   "execution_count": 1,
   "id": "cee3058d-03c9-41aa-8d42-f85cf72f09e9",
   "metadata": {},
   "outputs": [
    {
     "name": "stdin",
     "output_type": "stream",
     "text": [
      "enter a number 67\n"
     ]
    },
    {
     "name": "stdout",
     "output_type": "stream",
     "text": [
      "the number ispositive\n"
     ]
    }
   ],
   "source": [
    "def check_number(num):\n",
    "    if num >= 0:\n",
    "        return \"positive\"\n",
    "    elif num< 0:\n",
    "        return \"negative\"\n",
    "    else:\n",
    "        return \"Zero\"\n",
    "number=float(input(\"enter a number\"))\n",
    "result=check_number(number)\n",
    "print(f\"the number is{result}\")"
   ]
  },
  {
   "cell_type": "markdown",
   "id": "63aff076-52c4-4065-bcee-f3558585e2d4",
   "metadata": {},
   "source": [
    "2.Determine if a person is eligible to vote based on their age:"
   ]
  },
  {
   "cell_type": "code",
   "execution_count": 2,
   "id": "73cef7c4-91d5-4ef2-9d93-f879ebd668c1",
   "metadata": {},
   "outputs": [
    {
     "name": "stdin",
     "output_type": "stream",
     "text": [
      "enter the age  19\n"
     ]
    },
    {
     "name": "stdout",
     "output_type": "stream",
     "text": [
      "yes, you are eligiable to vote\n"
     ]
    }
   ],
   "source": [
    "age=int(input(\"enter the age \"))\n",
    "if age>18:\n",
    "    print(\"yes, you are eligiable to vote\")\n",
    "else:\n",
    "    print(\"you are not eligiable to vote\")\n",
    "        "
   ]
  },
  {
   "cell_type": "markdown",
   "id": "ca2f9f47-f891-4402-9010-dc55d0500e47",
   "metadata": {},
   "source": [
    "31. Create a program that validates a password based on complexity rules (length, characters, etc.)."
   ]
  },
  {
   "cell_type": "code",
   "execution_count": 7,
   "id": "6f9bec76-7a29-43c3-87e1-5c20c4944729",
   "metadata": {},
   "outputs": [
    {
     "name": "stdin",
     "output_type": "stream",
     "text": [
      "Enter a password:   GHJGHJjkhj9876166527*@#3487\n"
     ]
    },
    {
     "name": "stdout",
     "output_type": "stream",
     "text": [
      "Password is invalid.\n"
     ]
    }
   ],
   "source": [
    "import re\n",
    "\n",
    "def validate_password(password):\n",
    "    if re.match(r'^(?=.*[a-z])(?=.*[A-Z])(?=.*\\d)(?=.*[@$!%*?&])[A-Za-z\\d@$!%*?&]{8,}$', password):\n",
    "        return True\n",
    "    else:\n",
    "        return False\n",
    "\n",
    "password = input(\"Enter a password: \")\n",
    "if validate_password(password):\n",
    "    print(\"Password is valid.\")\n",
    "else:\n",
    "    print(\"Password is invalid.\")\n"
   ]
  },
  {
   "cell_type": "markdown",
   "id": "a39fdc1d-7988-4dbe-9739-21539e3595b6",
   "metadata": {},
   "source": [
    "32. Develop a program that performs matrix addition and subtraction based on user input."
   ]
  },
  {
   "cell_type": "code",
   "execution_count": 8,
   "id": "4876ffa4-1b82-43ea-8a54-82214f1d5001",
   "metadata": {},
   "outputs": [
    {
     "name": "stdout",
     "output_type": "stream",
     "text": [
      "Matrix Addition:\n",
      "[[10, 10, 10], [10, 10, 10], [10, 10, 10]]\n",
      "\n",
      "Matrix Subtraction:\n",
      "[[-8, -6, -4], [-2, 0, 2], [4, 6, 8]]\n"
     ]
    }
   ],
   "source": [
    "def matrix_addition(matrix_a, matrix_b):\n",
    "    result = [[matrix_a[i][j] + matrix_b[i][j] for j in range(len(matrix_a[0]))] for i in range(len(matrix_a))]\n",
    "    return result\n",
    "\n",
    "def matrix_subtraction(matrix_a, matrix_b):\n",
    "    result = [[matrix_a[i][j] - matrix_b[i][j] for j in range(len(matrix_a[0]))] for i in range(len(matrix_a))]\n",
    "    return result\n",
    "\n",
    "\n",
    "matrix_a = [[1, 2, 3], [4, 5, 6], [7, 8, 9]]\n",
    "matrix_b = [[9, 8, 7], [6, 5, 4], [3, 2, 1]]\n",
    "\n",
    "result_addition = matrix_addition(matrix_a, matrix_b)\n",
    "result_subtraction = matrix_subtraction(matrix_a, matrix_b)\n",
    "\n",
    "print(\"Matrix Addition:\")\n",
    "print(result_addition)\n",
    "\n",
    "print(\"\\nMatrix Subtraction:\")\n",
    "print(result_subtraction)\n"
   ]
  },
  {
   "cell_type": "markdown",
   "id": "44f7e7bd-1957-4949-9393-e0f06686d3ac",
   "metadata": {},
   "source": [
    "33. Write a program that calculates the greatest common divisor (GCD) of two numbers using the Euclidean\n",
    "algorithm."
   ]
  },
  {
   "cell_type": "code",
   "execution_count": 10,
   "id": "b38dd9fc-8782-4ddf-b9b8-c1c55b142bc9",
   "metadata": {},
   "outputs": [
    {
     "name": "stdin",
     "output_type": "stream",
     "text": [
      "Enter the first number:  28\n",
      "Enter the second number:  38\n"
     ]
    },
    {
     "name": "stdout",
     "output_type": "stream",
     "text": [
      "The GCD of 28 and 38 is 2\n"
     ]
    }
   ],
   "source": [
    "def gcd_euclidean(a, b):\n",
    "    while b:\n",
    "        a, b = b, a % b\n",
    "    return a\n",
    "\n",
    "num1 = int(input(\"Enter the first number: \"))\n",
    "num2 = int(input(\"Enter the second number: \"))\n",
    "result_gcd = gcd_euclidean(num1, num2)\n",
    "print(f\"The GCD of {num1} and {num2} is {result_gcd}\")\n"
   ]
  },
  {
   "cell_type": "markdown",
   "id": "1eb8c393-bc89-45b5-a1ea-2d0a9ce3a323",
   "metadata": {},
   "source": [
    "34. Build a program that performs matrix multiplication using nested loops and conditional statements."
   ]
  },
  {
   "cell_type": "code",
   "execution_count": 11,
   "id": "9e730fb4-9ea9-453a-94e8-fb220059fc11",
   "metadata": {},
   "outputs": [
    {
     "name": "stdout",
     "output_type": "stream",
     "text": [
      "Matrix Multiplication:\n",
      "[[30, 24, 18], [84, 69, 54], [138, 114, 90]]\n"
     ]
    }
   ],
   "source": [
    "def matrix_multiplication(matrix_a, matrix_b):\n",
    "    result = [[sum(matrix_a[i][k] * matrix_b[k][j] for k in range(len(matrix_b))) for j in range(len(matrix_b[0]))] for i in range(len(matrix_a))]\n",
    "    return result\n",
    "\n",
    "\n",
    "matrix_a = [[1, 2, 3], [4, 5, 6], [7, 8, 9]]\n",
    "matrix_b = [[9, 8, 7], [6, 5, 4], [3, 2, 1]]\n",
    "\n",
    "result_multiplication = matrix_multiplication(matrix_a, matrix_b)\n",
    "print(\"Matrix Multiplication:\")\n",
    "print(result_multiplication)\n"
   ]
  },
  {
   "cell_type": "markdown",
   "id": "d7d2c861-07d7-4759-b1db-e1f0e807e60c",
   "metadata": {},
   "source": [
    "38. Create a program that generates a calendar for a given month and year using conditional statements."
   ]
  },
  {
   "cell_type": "code",
   "execution_count": 14,
   "id": "f98b4ba5-0463-47b3-873c-b66dbfc04ba8",
   "metadata": {},
   "outputs": [
    {
     "name": "stdin",
     "output_type": "stream",
     "text": [
      "Enter the year:  2018\n",
      "Enter the month (1-12):  6\n"
     ]
    },
    {
     "name": "stdout",
     "output_type": "stream",
     "text": [
      "                 1   2   3  \n",
      " 4   5   6   7   8   9  10  \n",
      "11  12  13  14  15  16  17  \n",
      "18  19  20  21  22  23  24  \n",
      "25  26  27  28  29  30      \n"
     ]
    }
   ],
   "source": [
    "import calendar\n",
    "\n",
    "def generate_calendar(year, month):\n",
    "    cal = calendar.monthcalendar(year, month)\n",
    "    for week in cal:\n",
    "        for day in week:\n",
    "            if day == 0:\n",
    "                print(\"    \", end=\"\") \n",
    "            else:\n",
    "                print(f\"{day:2}  \", end=\"\")\n",
    "        print()\n",
    "\n",
    "# Example usage:\n",
    "year = int(input(\"Enter the year: \"))\n",
    "month = int(input(\"Enter the month (1-12): \"))\n",
    "generate_calendar(year, month)\n"
   ]
  },
  {
   "cell_type": "code",
   "execution_count": null,
   "id": "285ce26f-29ca-42db-b2f2-831fd2aa795d",
   "metadata": {},
   "outputs": [],
   "source": []
  }
 ],
 "metadata": {
  "kernelspec": {
   "display_name": "Python 3 (ipykernel)",
   "language": "python",
   "name": "python3"
  },
  "language_info": {
   "codemirror_mode": {
    "name": "ipython",
    "version": 3
   },
   "file_extension": ".py",
   "mimetype": "text/x-python",
   "name": "python",
   "nbconvert_exporter": "python",
   "pygments_lexer": "ipython3",
   "version": "3.10.8"
  },
  "toc-autonumbering": true,
  "toc-showmarkdowntxt": true,
  "toc-showtags": true
 },
 "nbformat": 4,
 "nbformat_minor": 5
}
